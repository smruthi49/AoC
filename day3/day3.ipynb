{
 "cells": [
  {
   "cell_type": "markdown",
   "metadata": {},
   "source": [
    "## Part 1"
   ]
  },
  {
   "cell_type": "code",
   "execution_count": 1,
   "metadata": {},
   "outputs": [],
   "source": [
    "f = open('day3Input.txt', 'r')\n",
    "\n",
    "file_content = f.read()"
   ]
  },
  {
   "cell_type": "code",
   "execution_count": 2,
   "metadata": {},
   "outputs": [],
   "source": [
    "#regex to check if mul(num,num) is in the string\n",
    "import re\n",
    "\n",
    "pattern = re.compile(r'mul\\((\\d{1,3}),(\\d{1,3})\\)')"
   ]
  },
  {
   "cell_type": "code",
   "execution_count": 3,
   "metadata": {},
   "outputs": [
    {
     "data": {
      "text/plain": [
       "716"
      ]
     },
     "execution_count": 3,
     "metadata": {},
     "output_type": "execute_result"
    }
   ],
   "source": [
    "matches = pattern.findall(file_content)\n",
    "len(matches)"
   ]
  },
  {
   "cell_type": "code",
   "execution_count": 4,
   "metadata": {},
   "outputs": [],
   "source": [
    "result = 0\n",
    "\n",
    "for match in matches:\n",
    "    num1, num2 = match\n",
    "    result += int(num1) * int(num2)"
   ]
  },
  {
   "cell_type": "markdown",
   "metadata": {},
   "source": [
    "Answer to Part 1 :"
   ]
  },
  {
   "cell_type": "code",
   "execution_count": null,
   "metadata": {},
   "outputs": [],
   "source": [
    "result"
   ]
  },
  {
   "cell_type": "markdown",
   "metadata": {},
   "source": [
    "## Part 2"
   ]
  },
  {
   "cell_type": "code",
   "execution_count": 6,
   "metadata": {},
   "outputs": [
    {
     "data": {
      "text/plain": [
       "716"
      ]
     },
     "execution_count": 6,
     "metadata": {},
     "output_type": "execute_result"
    }
   ],
   "source": [
    "do_dont_pattern = re.compile(r\"(do\\(\\).*?mul\\((\\d{1,3}),(\\d{1,3})\\))|(don't\\(\\).*?mul\\((\\d{1,3}),(\\d{1,3})\\))|(mul\\((\\d{1,3}),(\\d{1,3})\\))\")\n",
    "\n",
    "do_dont_matches = do_dont_pattern.findall(file_content)\n",
    "\n",
    "len(do_dont_matches)\n"
   ]
  },
  {
   "cell_type": "code",
   "execution_count": 7,
   "metadata": {},
   "outputs": [
    {
     "data": {
      "text/plain": [
       "[('', '', '', '', '', '', 'mul(363,974)', '363', '974'),\n",
       " ('', '', '', '', '', '', 'mul(307,210)', '307', '210'),\n",
       " ('', '', '', '', '', '', 'mul(542,323)', '542', '323'),\n",
       " ('', '', '', '', '', '', 'mul(238,474)', '238', '474'),\n",
       " ('', '', '', '', '', '', 'mul(251,668)', '251', '668'),\n",
       " ('', '', '', '', '', '', 'mul(184,693)', '184', '693'),\n",
       " ('', '', '', '', '', '', 'mul(279,48)', '279', '48'),\n",
       " ('', '', '', '', '', '', 'mul(96,310)', '96', '310'),\n",
       " ('', '', '', '', '', '', 'mul(393,809)', '393', '809'),\n",
       " ('', '', '', \"don't()+mul(95,723)\", '95', '723', '', '', ''),\n",
       " ('', '', '', '', '', '', 'mul(2,997)', '2', '997'),\n",
       " ('', '', '', '', '', '', 'mul(114,838)', '114', '838'),\n",
       " ('do()*?#/mul(981,859)', '981', '859', '', '', '', '', '', ''),\n",
       " ('', '', '', '', '', '', 'mul(137,289)', '137', '289'),\n",
       " ('', '', '', '', '', '', 'mul(632,274)', '632', '274')]"
      ]
     },
     "execution_count": 7,
     "metadata": {},
     "output_type": "execute_result"
    }
   ],
   "source": [
    "do_dont_matches[:15]"
   ]
  },
  {
   "cell_type": "code",
   "execution_count": 8,
   "metadata": {},
   "outputs": [],
   "source": [
    "dont = False\n",
    "do_dont_result = 0\n",
    "\n",
    "for match in do_dont_matches:\n",
    "    if match[3] != '':\n",
    "        dont = True\n",
    "        continue\n",
    "    \n",
    "    if match[0] != '':\n",
    "        dont = False\n",
    "    \n",
    "    if dont:\n",
    "        continue\n",
    "    \n",
    "    if match[6] != '':\n",
    "        do_dont_result += int(match[7]) * int(match[8])\n",
    "    elif match[0] != '':\n",
    "        do_dont_result += int(match[1]) * int(match[2])"
   ]
  },
  {
   "cell_type": "markdown",
   "metadata": {},
   "source": [
    "Answer to part 2 :"
   ]
  },
  {
   "cell_type": "code",
   "execution_count": null,
   "metadata": {},
   "outputs": [],
   "source": [
    "do_dont_result"
   ]
  }
 ],
 "metadata": {
  "kernelspec": {
   "display_name": "nlp",
   "language": "python",
   "name": "python3"
  },
  "language_info": {
   "codemirror_mode": {
    "name": "ipython",
    "version": 3
   },
   "file_extension": ".py",
   "mimetype": "text/x-python",
   "name": "python",
   "nbconvert_exporter": "python",
   "pygments_lexer": "ipython3",
   "version": "3.11.7"
  }
 },
 "nbformat": 4,
 "nbformat_minor": 2
}
