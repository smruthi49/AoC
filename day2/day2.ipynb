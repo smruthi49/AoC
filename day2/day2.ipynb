{
 "cells": [
  {
   "cell_type": "markdown",
   "metadata": {},
   "source": [
    "## Part 1\n",
    "A report only counts as safe if both of the following are true:\n",
    "\n",
    "- The levels are either all increasing or all decreasing.\n",
    "- Any two adjacent levels differ by at least one and at most three.\n"
   ]
  },
  {
   "cell_type": "code",
   "execution_count": 55,
   "metadata": {},
   "outputs": [],
   "source": [
    "def increasing(l):\n",
    "    for i in range(len(l)):\n",
    "        if l[i] < 0 or l[i] == 0 or abs(l[i]) > 3:\n",
    "            return False\n",
    "    return True\n",
    "\n",
    "def decreasing(l):\n",
    "    for i in range(len(l)):\n",
    "        if l[i] > 0 or l[i] == 0 or abs(l[i]) > 3:\n",
    "            return False\n",
    "    return True"
   ]
  },
  {
   "cell_type": "code",
   "execution_count": 56,
   "metadata": {},
   "outputs": [],
   "source": [
    "def Safe(l):\n",
    "    detail = []\n",
    "    for i in range(len(l)-1):\n",
    "        detail.append(l[i+1] - l[i])\n",
    "    if increasing(detail) or decreasing(detail):\n",
    "        return True\n",
    "    \n",
    "    return False"
   ]
  },
  {
   "cell_type": "code",
   "execution_count": 57,
   "metadata": {},
   "outputs": [
    {
     "data": {
      "text/plain": [
       "1000"
      ]
     },
     "execution_count": 57,
     "metadata": {},
     "output_type": "execute_result"
    }
   ],
   "source": [
    "f = open('day2Input.txt', 'r')\n",
    "\n",
    "reports = []\n",
    "\n",
    "for line in f.readlines():\n",
    "    row = line.strip('\\n').split()\n",
    "    row = [int(x) for x in row]\n",
    "    reports.append(row)\n",
    "    \n",
    "len(reports)"
   ]
  },
  {
   "cell_type": "code",
   "execution_count": null,
   "metadata": {},
   "outputs": [],
   "source": [
    "unsafe = []\n",
    "safeReport = 0\n",
    "for report in reports:\n",
    "    if Safe(report) == True:\n",
    "        safeReport += 1\n",
    "    else :\n",
    "        unsafe.append(report)\n",
    "        \n",
    "print(safeReport)"
   ]
  },
  {
   "cell_type": "markdown",
   "metadata": {},
   "source": [
    "## Part 2\n",
    "Now, the same rules apply as before, except if removing a single level from an unsafe report would make it safe, the report instead counts as safe."
   ]
  },
  {
   "cell_type": "code",
   "execution_count": 59,
   "metadata": {},
   "outputs": [],
   "source": [
    "def SafeAfter1(l):\n",
    "    \n",
    "    detail = []\n",
    "    for i in range(len(l)-1):\n",
    "        detail.append(l[i+1] - l[i])\n",
    "        \n",
    "    if increasing(detail):\n",
    "        return True\n",
    "    elif decreasing(detail):\n",
    "        return True\n",
    "    \n",
    "    for i in range(len(l)):\n",
    "        newl = l[:i] + l[i+1:]\n",
    "        \n",
    "        new_diff = [newl[j+1] - newl[j] for j in range(len(newl)-1)]\n",
    "        \n",
    "        if increasing(new_diff) or decreasing(new_diff):\n",
    "            return True\n",
    "    \n",
    "    return False"
   ]
  },
  {
   "cell_type": "code",
   "execution_count": 60,
   "metadata": {},
   "outputs": [
    {
     "data": {
      "text/plain": [
       "1000"
      ]
     },
     "execution_count": 60,
     "metadata": {},
     "output_type": "execute_result"
    }
   ],
   "source": [
    "f = open('day2Input.txt', 'r')\n",
    "\n",
    "reports = []\n",
    "\n",
    "for line in f.readlines():\n",
    "    row = line.strip('\\n').split()\n",
    "    row = [int(x) for x in row]\n",
    "    reports.append(row)\n",
    "    \n",
    "len(reports)"
   ]
  },
  {
   "cell_type": "code",
   "execution_count": null,
   "metadata": {},
   "outputs": [],
   "source": [
    "safeReport = 0\n",
    "for report in reports:\n",
    "    if SafeAfter1(report) == True:\n",
    "        safeReport += 1\n",
    "        \n",
    "print(safeReport)"
   ]
  }
 ],
 "metadata": {
  "kernelspec": {
   "display_name": "nlp",
   "language": "python",
   "name": "python3"
  },
  "language_info": {
   "codemirror_mode": {
    "name": "ipython",
    "version": 3
   },
   "file_extension": ".py",
   "mimetype": "text/x-python",
   "name": "python",
   "nbconvert_exporter": "python",
   "pygments_lexer": "ipython3",
   "version": "3.11.7"
  }
 },
 "nbformat": 4,
 "nbformat_minor": 2
}
